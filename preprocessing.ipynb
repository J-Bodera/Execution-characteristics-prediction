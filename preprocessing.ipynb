{
 "cells": [
  {
   "cell_type": "code",
   "execution_count": 1,
   "metadata": {},
   "outputs": [],
   "source": [
    "import json\n",
    "import pandas as pd\n",
    "import os\n",
    "from pandas.io.json import json_normalize\n",
    "\n",
    "def read_jsonl(relative_path):\n",
    "    with open(relative_path, \"r\") as file:\n",
    "        lines = file.readlines()\n",
    "    jsons = [json.loads(line) for line in lines]\n",
    "    return pd.json_normalize(jsons)\n",
    "\n",
    "def list_files_by_extension(extension, directory_path):\n",
    "    files = [file for file in os.listdir(directory_path) if file.lower().endswith(extension.lower())]\n",
    "    sorted_by_name = sorted(files)\n",
    "    return sorted_by_name\n",
    "\n",
    "def list_directores_in_path(relative_path):\n",
    "    return [os.path.join(relative_path, fname) for fname in os.listdir(relative_path) if os.path.isdir(os.path.join(relative_path, fname))]"
   ]
  },
  {
   "cell_type": "code",
   "execution_count": 2,
   "metadata": {},
   "outputs": [],
   "source": [
    "from functools import reduce\n",
    "from itertools import chain\n",
    "import numpy as np\n",
    "\n",
    "def load_data_run(path):\n",
    "    print(f\"Loading from {path}\")\n",
    "    files = [os.path.join(path, file) for file in [\"job_descriptions.jsonl\", \"sys_info.jsonl\"]]\n",
    "    meta = [read_jsonl(file) for file in files]\n",
    "    events = read_jsonl(os.path.join(path, \"metrics.jsonl\"))\n",
    "    meta = pd.merge(meta[0], meta[1], on=\"jobId\")\n",
    "    return np.array([meta, events])\n",
    "\n",
    "def load_from_sources(paths):\n",
    "    frames = np.array([load_data_run(path) for path in paths])\n",
    "    return pd.concat(frames[:, 0]), pd.concat(frames[:, 1])\n",
    "\n",
    "def load_frames_for_base(path, base):\n",
    "    base_path = os.path.join(path,base)\n",
    "    categories = list_directores_in_path(base_path)\n",
    "    frames_paths =list(chain(*[list_directores_in_path(category) for category in categories]))\n",
    "    return load_from_sources(frames_paths)"
   ]
  },
  {
   "cell_type": "code",
   "execution_count": 3,
   "metadata": {},
   "outputs": [],
   "source": [
    "data_root = \"../parsed-logs2/\"\n",
    "\n",
    "aws_bases = list_directores_in_path(data_root + \"aws\")\n",
    "gcloud_bases = list_directores_in_path(data_root +\"gcloud\")"
   ]
  },
  {
   "cell_type": "code",
   "execution_count": 4,
   "metadata": {},
   "outputs": [
    {
     "name": "stdout",
     "output_type": "stream",
     "text": [
      "Loading from ../parsed-logs2/gcloud\\c2-standard-4\\montage2__0.01__1.0.0__2020-05-31-11-34-47\n",
      "Loading from ../parsed-logs2/gcloud\\c2-standard-4\\montage2__0.01__1.0.0__2020-06-01-18-58-26\n",
      "Loading from ../parsed-logs2/gcloud\\c2-standard-4\\montage2__0.25__1.0.0__2020-05-31-13-13-15\n"
     ]
    },
    {
     "name": "stderr",
     "output_type": "stream",
     "text": [
      "C:\\Users\\jakub\\AppData\\Local\\Temp/ipykernel_18852/4142395225.py:11: VisibleDeprecationWarning: Creating an ndarray from ragged nested sequences (which is a list-or-tuple of lists-or-tuples-or ndarrays with different lengths or shapes) is deprecated. If you meant to do this, you must specify 'dtype=object' when creating the ndarray.\n",
      "  return np.array([meta, events])\n"
     ]
    },
    {
     "name": "stdout",
     "output_type": "stream",
     "text": [
      "Loading from ../parsed-logs2/gcloud\\c2-standard-4\\montage2__0.25__1.0.0__2020-06-01-08-39-05\n",
      "Loading from ../parsed-logs2/gcloud\\c2-standard-4\\montage2__1.0__1.0.0__2020-05-31-13-56-26\n",
      "Loading from ../parsed-logs2/gcloud\\c2-standard-4\\montage2__1.0__1.0.0__2020-06-01-09-21-55\n",
      "Loading from ../parsed-logs2/gcloud\\c2-standard-4\\montage__0.25__1.0.0__2020-05-31-12-35-35\n",
      "Loading from ../parsed-logs2/gcloud\\c2-standard-4\\montage__0.25__1.0.0__2020-06-01-08-03-31\n",
      "Loading from ../parsed-logs2/gcloud\\c2-standard-4\\montage__1.0__1.0.0__2020-05-31-12-41-26\n",
      "Loading from ../parsed-logs2/gcloud\\c2-standard-4\\montage__1.0__1.0.0__2020-06-01-08-08-23\n",
      "Loading from ../parsed-logs2/gcloud\\c2-standard-4\\montage__2.0__1.0.0__2020-05-31-12-57-16\n",
      "Loading from ../parsed-logs2/gcloud\\c2-standard-4\\montage__2.0__1.0.0__2020-06-01-08-23-02\n",
      "Loading from ../parsed-logs2/gcloud\\c2-standard-4\\soykb__134__1.0.0__2020-05-31-18-54-39\n",
      "Loading from ../parsed-logs2/gcloud\\c2-standard-4\\soykb__134__1.0.0__2020-06-01-14-15-58\n",
      "Loading from ../parsed-logs2/gcloud\\c2-standard-4\\soykb__238__1.0.0__2020-05-31-23-12-07\n",
      "Loading from ../parsed-logs2/gcloud\\c2-standard-4\\soykb__238__1.0.0__2020-06-01-18-37-55\n",
      "Loading from ../parsed-logs2/gcloud\\c2-standard-4\\soykb__446__1.0.0__2020-06-01-07-51-12\n",
      "Loading from ../parsed-logs2/gcloud\\c2-standard-4\\soykb__446__1.0.0__2020-06-02-03-28-48\n",
      "Loading from ../parsed-logs2/gcloud\\c2-standard-4\\soykb__56__1.0.0__2020-05-31-12-27-24\n",
      "Loading from ../parsed-logs2/gcloud\\c2-standard-4\\soykb__56__1.0.0__2020-06-01-10-46-56\n",
      "Loading from ../parsed-logs2/gcloud\\c2-standard-4\\soykb__82__1.0.0__2020-05-31-16-41-09\n",
      "Loading from ../parsed-logs2/gcloud\\c2-standard-4\\soykb__82__1.0.0__2020-06-01-12-03-15\n",
      "Loading from ../parsed-logs2/gcloud\\e2-medium\\montage__0.25__1.0.0__2020-05-30-16-42-38\n",
      "Loading from ../parsed-logs2/gcloud\\e2-medium\\montage__0.25__1.0.0__2020-05-30-16-58-46\n",
      "Loading from ../parsed-logs2/gcloud\\e2-standard-4\\montage2__0.01__1.0.0__2020-05-31-09-50-39\n",
      "Loading from ../parsed-logs2/gcloud\\e2-standard-4\\montage2__0.25__1.0.0__2020-06-01-09-02-36\n",
      "Loading from ../parsed-logs2/gcloud\\e2-standard-4\\montage2__0.25__1.0.0__2020-06-01-18-26-43\n",
      "Loading from ../parsed-logs2/gcloud\\e2-standard-4\\montage2__1.0__1.0.0__2020-06-01-17-08-44\n",
      "Loading from ../parsed-logs2/gcloud\\e2-standard-4\\montage2__1.0__1.0.0__2020-06-01-19-12-39\n",
      "Loading from ../parsed-logs2/gcloud\\e2-standard-4\\montage__0.25__1.0.0__2020-05-29-09-15-19\n",
      "Loading from ../parsed-logs2/gcloud\\e2-standard-4\\montage__0.25__1.0.0__2020-06-01-08-24-24\n",
      "Loading from ../parsed-logs2/gcloud\\e2-standard-4\\montage__1.0__1.0.0__2020-06-01-08-30-21\n",
      "Loading from ../parsed-logs2/gcloud\\e2-standard-4\\montage__1.0__1.0.0__2020-06-01-17-51-35\n",
      "Loading from ../parsed-logs2/gcloud\\e2-standard-4\\montage__2.0__1.0.0__2020-06-01-08-45-07\n",
      "Loading from ../parsed-logs2/gcloud\\e2-standard-4\\montage__2.0__1.0.0__2020-06-01-18-08-23\n",
      "Loading from ../parsed-logs2/gcloud\\e2-standard-4\\soykb__134__1.0.0__2020-05-29-15-17-42\n",
      "Loading from ../parsed-logs2/gcloud\\e2-standard-4\\soykb__134__1.0.0__2020-06-02-02-01-57\n",
      "Loading from ../parsed-logs2/gcloud\\e2-standard-4\\soykb__238__1.0.0__2020-05-29-21-17-37\n",
      "Loading from ../parsed-logs2/gcloud\\e2-standard-4\\soykb__238__1.0.0__2020-06-02-08-09-56\n",
      "Loading from ../parsed-logs2/gcloud\\e2-standard-4\\soykb__446__1.0.0__2020-05-30-22-50-31\n",
      "Loading from ../parsed-logs2/gcloud\\e2-standard-4\\soykb__446__1.0.0__2020-06-02-23-24-58\n",
      "Loading from ../parsed-logs2/gcloud\\e2-standard-4\\soykb__56__1.0.0__2020-05-29-10-28-36\n",
      "Loading from ../parsed-logs2/gcloud\\e2-standard-4\\soykb__56__1.0.0__2020-06-01-21-05-49\n",
      "Loading from ../parsed-logs2/gcloud\\e2-standard-4\\soykb__654__1.0.0__2020-06-01-08-15-07\n",
      "Loading from ../parsed-logs2/gcloud\\e2-standard-4\\soykb__82__1.0.0__2020-05-29-12-13-51\n",
      "Loading from ../parsed-logs2/gcloud\\e2-standard-4\\soykb__82__1.0.0__2020-06-01-22-54-26\n",
      "Loading from ../parsed-logs2/gcloud\\n1-standard-4\\montage2__0.01__1.0.0__2020-06-03-08-22-58\n",
      "Loading from ../parsed-logs2/gcloud\\n1-standard-4\\montage2__0.01__1.0.0__2020-06-21-18-10-26\n",
      "Loading from ../parsed-logs2/gcloud\\n1-standard-4\\montage2__0.25__1.0.0__2020-06-03-08-29-31\n",
      "Loading from ../parsed-logs2/gcloud\\n1-standard-4\\montage2__0.25__1.0.0__2020-06-21-18-22-10\n",
      "Loading from ../parsed-logs2/gcloud\\n1-standard-4\\montage2__1.0__1.0.0__2020-06-03-17-36-55\n",
      "Loading from ../parsed-logs2/gcloud\\n1-standard-4\\montage2__1.0__1.0.0__2020-06-21-19-34-03\n",
      "Loading from ../parsed-logs2/gcloud\\n1-standard-4\\montage__0.25__1.0.0__2020-06-03-07-47-59\n",
      "Loading from ../parsed-logs2/gcloud\\n1-standard-4\\montage__0.25__1.0.0__2020-06-21-17-30-32\n",
      "Loading from ../parsed-logs2/gcloud\\n1-standard-4\\montage__1.0__1.0.0__2020-06-03-07-53-36\n",
      "Loading from ../parsed-logs2/gcloud\\n1-standard-4\\montage__1.0__1.0.0__2020-06-21-17-37-09\n",
      "Loading from ../parsed-logs2/gcloud\\n1-standard-4\\montage__2.0__1.0.0__2020-06-03-08-09-17\n",
      "Loading from ../parsed-logs2/gcloud\\n1-standard-4\\montage__2.0__1.0.0__2020-06-21-17-57-00\n",
      "Loading from ../parsed-logs2/gcloud\\n1-standard-4\\soykb__134__1.0.0__2020-06-04-00-19-31\n",
      "Loading from ../parsed-logs2/gcloud\\n1-standard-4\\soykb__134__1.0.0__2020-06-22-02-19-24\n",
      "Loading from ../parsed-logs2/gcloud\\n1-standard-4\\soykb__238__1.0.0__2020-06-04-06-20-19\n",
      "Loading from ../parsed-logs2/gcloud\\n1-standard-4\\soykb__238__1.0.0__2020-06-22-13-34-37\n",
      "Loading from ../parsed-logs2/gcloud\\n1-standard-4\\soykb__446__1.0.0__2020-06-23-14-13-46\n",
      "Loading from ../parsed-logs2/gcloud\\n1-standard-4\\soykb__56__1.0.0__2020-06-03-19-26-10\n",
      "Loading from ../parsed-logs2/gcloud\\n1-standard-4\\soykb__56__1.0.0__2020-06-21-21-23-50\n",
      "Loading from ../parsed-logs2/gcloud\\n1-standard-4\\soykb__82__1.0.0__2020-06-03-21-18-23\n",
      "Loading from ../parsed-logs2/gcloud\\n1-standard-4\\soykb__82__1.0.0__2020-06-21-23-14-44\n",
      "Loading from ../parsed-logs2/gcloud\\n2-standard-4\\montage2__0.01__1.0.0__2020-06-02-06-49-05\n",
      "Loading from ../parsed-logs2/gcloud\\n2-standard-4\\montage2__0.01__1.0.0__2020-06-21-18-13-47\n",
      "Loading from ../parsed-logs2/gcloud\\n2-standard-4\\montage2__0.25__1.0.0__2020-06-02-06-57-11\n",
      "Loading from ../parsed-logs2/gcloud\\n2-standard-4\\montage2__0.25__1.0.0__2020-06-21-18-21-41\n",
      "Loading from ../parsed-logs2/gcloud\\n2-standard-4\\montage2__1.0__1.0.0__2020-06-02-07-53-32\n",
      "Loading from ../parsed-logs2/gcloud\\n2-standard-4\\montage2__1.0__1.0.0__2020-06-21-19-27-55\n",
      "Loading from ../parsed-logs2/gcloud\\n2-standard-4\\montage__0.25__1.0.0__2020-06-02-06-13-15\n",
      "Loading from ../parsed-logs2/gcloud\\n2-standard-4\\montage__0.25__1.0.0__2020-06-21-17-33-09\n",
      "Loading from ../parsed-logs2/gcloud\\n2-standard-4\\montage__1.0__1.0.0__2020-06-02-06-19-03\n",
      "Loading from ../parsed-logs2/gcloud\\n2-standard-4\\montage__1.0__1.0.0__2020-06-21-17-39-57\n",
      "Loading from ../parsed-logs2/gcloud\\n2-standard-4\\montage__2.0__1.0.0__2020-06-02-06-36-48\n",
      "Loading from ../parsed-logs2/gcloud\\n2-standard-4\\montage__2.0__1.0.0__2020-06-21-17-59-46\n",
      "Loading from ../parsed-logs2/gcloud\\n2-standard-4\\soykb__134__1.0.0__2020-06-03-00-40-39\n",
      "Loading from ../parsed-logs2/gcloud\\n2-standard-4\\soykb__134__1.0.0__2020-06-22-01-00-21\n",
      "Loading from ../parsed-logs2/gcloud\\n2-standard-4\\soykb__238__1.0.0__2020-06-03-05-36-23\n",
      "Loading from ../parsed-logs2/gcloud\\n2-standard-4\\soykb__238__1.0.0__2020-06-22-12-09-40\n",
      "Loading from ../parsed-logs2/gcloud\\n2-standard-4\\soykb__446__1.0.0__2020-06-04-02-55-26\n",
      "Loading from ../parsed-logs2/gcloud\\n2-standard-4\\soykb__446__1.0.0__2020-06-23-08-02-29\n",
      "Loading from ../parsed-logs2/gcloud\\n2-standard-4\\soykb__56__1.0.0__2020-06-02-09-24-48\n",
      "Loading from ../parsed-logs2/gcloud\\n2-standard-4\\soykb__56__1.0.0__2020-06-21-21-05-48\n",
      "Loading from ../parsed-logs2/gcloud\\n2-standard-4\\soykb__82__1.0.0__2020-06-02-10-51-11\n",
      "Loading from ../parsed-logs2/gcloud\\n2-standard-4\\soykb__82__1.0.0__2020-06-21-22-33-33\n",
      "Loading from ../parsed-logs2/gcloud\\n2d-standard-4\\montage2__0.01__1.0.0__2020-06-20-20-07-12\n",
      "Loading from ../parsed-logs2/gcloud\\n2d-standard-4\\montage2__0.01__1.0.0__2020-06-21-17-17-48\n",
      "Loading from ../parsed-logs2/gcloud\\n2d-standard-4\\montage2__0.25__1.0.0__2020-06-20-20-15-27\n",
      "Loading from ../parsed-logs2/gcloud\\n2d-standard-4\\montage2__0.25__1.0.0__2020-06-21-17-25-44\n",
      "Loading from ../parsed-logs2/gcloud\\n2d-standard-4\\montage2__1.0__1.0.0__2020-06-20-21-44-11\n"
     ]
    },
    {
     "name": "stdout",
     "output_type": "stream",
     "text": [
      "Loading from ../parsed-logs2/gcloud\\n2d-standard-4\\montage2__1.0__1.0.0__2020-06-21-18-43-46\n",
      "Loading from ../parsed-logs2/gcloud\\n2d-standard-4\\montage__0.25__1.0.0__2020-06-20-19-19-24\n",
      "Loading from ../parsed-logs2/gcloud\\n2d-standard-4\\montage__0.25__1.0.0__2020-06-21-14-10-27\n",
      "Loading from ../parsed-logs2/gcloud\\n2d-standard-4\\montage__1.0__1.0.0__2020-06-20-19-33-55\n",
      "Loading from ../parsed-logs2/gcloud\\n2d-standard-4\\montage__1.0__1.0.0__2020-06-21-16-46-00\n",
      "Loading from ../parsed-logs2/gcloud\\n2d-standard-4\\montage__2.0__1.0.0__2020-06-20-19-53-33\n",
      "Loading from ../parsed-logs2/gcloud\\n2d-standard-4\\montage__2.0__1.0.0__2020-06-21-17-04-44\n",
      "Loading from ../parsed-logs2/gcloud\\n2d-standard-4\\soykb__134__1.0.0__2020-06-21-03-35-15\n",
      "Loading from ../parsed-logs2/gcloud\\n2d-standard-4\\soykb__134__1.0.0__2020-06-22-00-37-22\n",
      "Loading from ../parsed-logs2/gcloud\\n2d-standard-4\\soykb__238__1.0.0__2020-06-21-07-11-24\n",
      "Loading from ../parsed-logs2/gcloud\\n2d-standard-4\\soykb__238__1.0.0__2020-06-22-11-18-29\n",
      "Loading from ../parsed-logs2/gcloud\\n2d-standard-4\\soykb__446__1.0.0__2020-06-21-14-04-41\n",
      "Loading from ../parsed-logs2/gcloud\\n2d-standard-4\\soykb__446__1.0.0__2020-06-22-18-42-45\n",
      "Loading from ../parsed-logs2/gcloud\\n2d-standard-4\\soykb__56__1.0.0__2020-06-21-00-03-29\n",
      "Loading from ../parsed-logs2/gcloud\\n2d-standard-4\\soykb__56__1.0.0__2020-06-21-21-25-12\n",
      "Loading from ../parsed-logs2/gcloud\\n2d-standard-4\\soykb__82__1.0.0__2020-06-21-01-36-42\n",
      "Loading from ../parsed-logs2/gcloud\\n2d-standard-4\\soykb__82__1.0.0__2020-06-21-22-38-21\n"
     ]
    }
   ],
   "source": [
    "df = load_frames_for_base(data_root, \"gcloud\")"
   ]
  },
  {
   "cell_type": "code",
   "execution_count": 5,
   "metadata": {},
   "outputs": [],
   "source": [
    "meta, events = df"
   ]
  },
  {
   "cell_type": "code",
   "execution_count": 6,
   "metadata": {},
   "outputs": [
    {
     "ename": "MemoryError",
     "evalue": "Unable to allocate 397. MiB for an array with shape (8, 6505759) and data type object",
     "output_type": "error",
     "traceback": [
      "\u001b[1;31m---------------------------------------------------------------------------\u001b[0m",
      "\u001b[1;31mMemoryError\u001b[0m                               Traceback (most recent call last)",
      "\u001b[1;32m~\\AppData\\Local\\Temp/ipykernel_18852/805235771.py\u001b[0m in \u001b[0;36m<module>\u001b[1;34m\u001b[0m\n\u001b[1;32m----> 1\u001b[1;33m \u001b[0mfiltered_events\u001b[0m \u001b[1;33m=\u001b[0m \u001b[0mevents\u001b[0m\u001b[1;33m.\u001b[0m\u001b[0mloc\u001b[0m\u001b[1;33m[\u001b[0m\u001b[0mevents\u001b[0m\u001b[1;33m[\u001b[0m\u001b[1;34m\"parameter\"\u001b[0m\u001b[1;33m]\u001b[0m \u001b[1;33m!=\u001b[0m \u001b[1;34m\"event\"\u001b[0m\u001b[1;33m]\u001b[0m\u001b[1;33m.\u001b[0m\u001b[0mreset_index\u001b[0m\u001b[1;33m(\u001b[0m\u001b[1;33m)\u001b[0m\u001b[1;33m\u001b[0m\u001b[1;33m\u001b[0m\u001b[0m\n\u001b[0m\u001b[0;32m      2\u001b[0m \u001b[0mfiltered_events\u001b[0m\u001b[1;33m\u001b[0m\u001b[1;33m\u001b[0m\u001b[0m\n",
      "\u001b[1;32m~\\anaconda3\\lib\\site-packages\\pandas\\util\\_decorators.py\u001b[0m in \u001b[0;36mwrapper\u001b[1;34m(*args, **kwargs)\u001b[0m\n\u001b[0;32m    309\u001b[0m                     \u001b[0mstacklevel\u001b[0m\u001b[1;33m=\u001b[0m\u001b[0mstacklevel\u001b[0m\u001b[1;33m,\u001b[0m\u001b[1;33m\u001b[0m\u001b[1;33m\u001b[0m\u001b[0m\n\u001b[0;32m    310\u001b[0m                 )\n\u001b[1;32m--> 311\u001b[1;33m             \u001b[1;32mreturn\u001b[0m \u001b[0mfunc\u001b[0m\u001b[1;33m(\u001b[0m\u001b[1;33m*\u001b[0m\u001b[0margs\u001b[0m\u001b[1;33m,\u001b[0m \u001b[1;33m**\u001b[0m\u001b[0mkwargs\u001b[0m\u001b[1;33m)\u001b[0m\u001b[1;33m\u001b[0m\u001b[1;33m\u001b[0m\u001b[0m\n\u001b[0m\u001b[0;32m    312\u001b[0m \u001b[1;33m\u001b[0m\u001b[0m\n\u001b[0;32m    313\u001b[0m         \u001b[1;32mreturn\u001b[0m \u001b[0mwrapper\u001b[0m\u001b[1;33m\u001b[0m\u001b[1;33m\u001b[0m\u001b[0m\n",
      "\u001b[1;32m~\\anaconda3\\lib\\site-packages\\pandas\\core\\frame.py\u001b[0m in \u001b[0;36mreset_index\u001b[1;34m(self, level, drop, inplace, col_level, col_fill)\u001b[0m\n\u001b[0;32m   5742\u001b[0m             \u001b[0mnew_obj\u001b[0m \u001b[1;33m=\u001b[0m \u001b[0mself\u001b[0m\u001b[1;33m\u001b[0m\u001b[1;33m\u001b[0m\u001b[0m\n\u001b[0;32m   5743\u001b[0m         \u001b[1;32melse\u001b[0m\u001b[1;33m:\u001b[0m\u001b[1;33m\u001b[0m\u001b[1;33m\u001b[0m\u001b[0m\n\u001b[1;32m-> 5744\u001b[1;33m             \u001b[0mnew_obj\u001b[0m \u001b[1;33m=\u001b[0m \u001b[0mself\u001b[0m\u001b[1;33m.\u001b[0m\u001b[0mcopy\u001b[0m\u001b[1;33m(\u001b[0m\u001b[1;33m)\u001b[0m\u001b[1;33m\u001b[0m\u001b[1;33m\u001b[0m\u001b[0m\n\u001b[0m\u001b[0;32m   5745\u001b[0m \u001b[1;33m\u001b[0m\u001b[0m\n\u001b[0;32m   5746\u001b[0m         \u001b[0mnew_index\u001b[0m \u001b[1;33m=\u001b[0m \u001b[0mibase\u001b[0m\u001b[1;33m.\u001b[0m\u001b[0mdefault_index\u001b[0m\u001b[1;33m(\u001b[0m\u001b[0mlen\u001b[0m\u001b[1;33m(\u001b[0m\u001b[0mnew_obj\u001b[0m\u001b[1;33m)\u001b[0m\u001b[1;33m)\u001b[0m\u001b[1;33m\u001b[0m\u001b[1;33m\u001b[0m\u001b[0m\n",
      "\u001b[1;32m~\\anaconda3\\lib\\site-packages\\pandas\\core\\generic.py\u001b[0m in \u001b[0;36mcopy\u001b[1;34m(self, deep)\u001b[0m\n\u001b[0;32m   5931\u001b[0m         \u001b[0mdtype\u001b[0m\u001b[1;33m:\u001b[0m \u001b[0mobject\u001b[0m\u001b[1;33m\u001b[0m\u001b[1;33m\u001b[0m\u001b[0m\n\u001b[0;32m   5932\u001b[0m         \"\"\"\n\u001b[1;32m-> 5933\u001b[1;33m         \u001b[0mdata\u001b[0m \u001b[1;33m=\u001b[0m \u001b[0mself\u001b[0m\u001b[1;33m.\u001b[0m\u001b[0m_mgr\u001b[0m\u001b[1;33m.\u001b[0m\u001b[0mcopy\u001b[0m\u001b[1;33m(\u001b[0m\u001b[0mdeep\u001b[0m\u001b[1;33m=\u001b[0m\u001b[0mdeep\u001b[0m\u001b[1;33m)\u001b[0m\u001b[1;33m\u001b[0m\u001b[1;33m\u001b[0m\u001b[0m\n\u001b[0m\u001b[0;32m   5934\u001b[0m         \u001b[0mself\u001b[0m\u001b[1;33m.\u001b[0m\u001b[0m_clear_item_cache\u001b[0m\u001b[1;33m(\u001b[0m\u001b[1;33m)\u001b[0m\u001b[1;33m\u001b[0m\u001b[1;33m\u001b[0m\u001b[0m\n\u001b[0;32m   5935\u001b[0m         \u001b[1;32mreturn\u001b[0m \u001b[0mself\u001b[0m\u001b[1;33m.\u001b[0m\u001b[0m_constructor\u001b[0m\u001b[1;33m(\u001b[0m\u001b[0mdata\u001b[0m\u001b[1;33m)\u001b[0m\u001b[1;33m.\u001b[0m\u001b[0m__finalize__\u001b[0m\u001b[1;33m(\u001b[0m\u001b[0mself\u001b[0m\u001b[1;33m,\u001b[0m \u001b[0mmethod\u001b[0m\u001b[1;33m=\u001b[0m\u001b[1;34m\"copy\"\u001b[0m\u001b[1;33m)\u001b[0m\u001b[1;33m\u001b[0m\u001b[1;33m\u001b[0m\u001b[0m\n",
      "\u001b[1;32m~\\anaconda3\\lib\\site-packages\\pandas\\core\\internals\\managers.py\u001b[0m in \u001b[0;36mcopy\u001b[1;34m(self, deep)\u001b[0m\n\u001b[0;32m    597\u001b[0m             \u001b[0mnew_axes\u001b[0m \u001b[1;33m=\u001b[0m \u001b[0mlist\u001b[0m\u001b[1;33m(\u001b[0m\u001b[0mself\u001b[0m\u001b[1;33m.\u001b[0m\u001b[0maxes\u001b[0m\u001b[1;33m)\u001b[0m\u001b[1;33m\u001b[0m\u001b[1;33m\u001b[0m\u001b[0m\n\u001b[0;32m    598\u001b[0m \u001b[1;33m\u001b[0m\u001b[0m\n\u001b[1;32m--> 599\u001b[1;33m         \u001b[0mres\u001b[0m \u001b[1;33m=\u001b[0m \u001b[0mself\u001b[0m\u001b[1;33m.\u001b[0m\u001b[0mapply\u001b[0m\u001b[1;33m(\u001b[0m\u001b[1;34m\"copy\"\u001b[0m\u001b[1;33m,\u001b[0m \u001b[0mdeep\u001b[0m\u001b[1;33m=\u001b[0m\u001b[0mdeep\u001b[0m\u001b[1;33m)\u001b[0m\u001b[1;33m\u001b[0m\u001b[1;33m\u001b[0m\u001b[0m\n\u001b[0m\u001b[0;32m    600\u001b[0m         \u001b[0mres\u001b[0m\u001b[1;33m.\u001b[0m\u001b[0maxes\u001b[0m \u001b[1;33m=\u001b[0m \u001b[0mnew_axes\u001b[0m\u001b[1;33m\u001b[0m\u001b[1;33m\u001b[0m\u001b[0m\n\u001b[0;32m    601\u001b[0m \u001b[1;33m\u001b[0m\u001b[0m\n",
      "\u001b[1;32m~\\anaconda3\\lib\\site-packages\\pandas\\core\\internals\\managers.py\u001b[0m in \u001b[0;36mapply\u001b[1;34m(self, f, align_keys, ignore_failures, **kwargs)\u001b[0m\n\u001b[0;32m    325\u001b[0m                     \u001b[0mapplied\u001b[0m \u001b[1;33m=\u001b[0m \u001b[0mb\u001b[0m\u001b[1;33m.\u001b[0m\u001b[0mapply\u001b[0m\u001b[1;33m(\u001b[0m\u001b[0mf\u001b[0m\u001b[1;33m,\u001b[0m \u001b[1;33m**\u001b[0m\u001b[0mkwargs\u001b[0m\u001b[1;33m)\u001b[0m\u001b[1;33m\u001b[0m\u001b[1;33m\u001b[0m\u001b[0m\n\u001b[0;32m    326\u001b[0m                 \u001b[1;32melse\u001b[0m\u001b[1;33m:\u001b[0m\u001b[1;33m\u001b[0m\u001b[1;33m\u001b[0m\u001b[0m\n\u001b[1;32m--> 327\u001b[1;33m                     \u001b[0mapplied\u001b[0m \u001b[1;33m=\u001b[0m \u001b[0mgetattr\u001b[0m\u001b[1;33m(\u001b[0m\u001b[0mb\u001b[0m\u001b[1;33m,\u001b[0m \u001b[0mf\u001b[0m\u001b[1;33m)\u001b[0m\u001b[1;33m(\u001b[0m\u001b[1;33m**\u001b[0m\u001b[0mkwargs\u001b[0m\u001b[1;33m)\u001b[0m\u001b[1;33m\u001b[0m\u001b[1;33m\u001b[0m\u001b[0m\n\u001b[0m\u001b[0;32m    328\u001b[0m             \u001b[1;32mexcept\u001b[0m \u001b[1;33m(\u001b[0m\u001b[0mTypeError\u001b[0m\u001b[1;33m,\u001b[0m \u001b[0mNotImplementedError\u001b[0m\u001b[1;33m)\u001b[0m\u001b[1;33m:\u001b[0m\u001b[1;33m\u001b[0m\u001b[1;33m\u001b[0m\u001b[0m\n\u001b[0;32m    329\u001b[0m                 \u001b[1;32mif\u001b[0m \u001b[1;32mnot\u001b[0m \u001b[0mignore_failures\u001b[0m\u001b[1;33m:\u001b[0m\u001b[1;33m\u001b[0m\u001b[1;33m\u001b[0m\u001b[0m\n",
      "\u001b[1;32m~\\anaconda3\\lib\\site-packages\\pandas\\core\\internals\\blocks.py\u001b[0m in \u001b[0;36mcopy\u001b[1;34m(self, deep)\u001b[0m\n\u001b[0;32m    648\u001b[0m         \u001b[0mvalues\u001b[0m \u001b[1;33m=\u001b[0m \u001b[0mself\u001b[0m\u001b[1;33m.\u001b[0m\u001b[0mvalues\u001b[0m\u001b[1;33m\u001b[0m\u001b[1;33m\u001b[0m\u001b[0m\n\u001b[0;32m    649\u001b[0m         \u001b[1;32mif\u001b[0m \u001b[0mdeep\u001b[0m\u001b[1;33m:\u001b[0m\u001b[1;33m\u001b[0m\u001b[1;33m\u001b[0m\u001b[0m\n\u001b[1;32m--> 650\u001b[1;33m             \u001b[0mvalues\u001b[0m \u001b[1;33m=\u001b[0m \u001b[0mvalues\u001b[0m\u001b[1;33m.\u001b[0m\u001b[0mcopy\u001b[0m\u001b[1;33m(\u001b[0m\u001b[1;33m)\u001b[0m\u001b[1;33m\u001b[0m\u001b[1;33m\u001b[0m\u001b[0m\n\u001b[0m\u001b[0;32m    651\u001b[0m         \u001b[1;32mreturn\u001b[0m \u001b[0mself\u001b[0m\u001b[1;33m.\u001b[0m\u001b[0mmake_block_same_class\u001b[0m\u001b[1;33m(\u001b[0m\u001b[0mvalues\u001b[0m\u001b[1;33m)\u001b[0m\u001b[1;33m\u001b[0m\u001b[1;33m\u001b[0m\u001b[0m\n\u001b[0;32m    652\u001b[0m \u001b[1;33m\u001b[0m\u001b[0m\n",
      "\u001b[1;31mMemoryError\u001b[0m: Unable to allocate 397. MiB for an array with shape (8, 6505759) and data type object"
     ]
    }
   ],
   "source": [
    "filtered_events = events.loc[events[\"parameter\"] != \"event\"].reset_index()\n",
    "filtered_events"
   ]
  },
  {
   "cell_type": "code",
   "execution_count": null,
   "metadata": {},
   "outputs": [],
   "source": [
    "filtered_events.parameter.unique()"
   ]
  },
  {
   "cell_type": "markdown",
   "metadata": {},
   "source": [
    "{\"read\": 1225, \"write\": 1, \"readSyscalls\": 5, \"writeSyscalls\": 1, \"readReal\": 0, \"writeReal\": 0, \"writeCancelled\": 0}"
   ]
  },
  {
   "cell_type": "code",
   "execution_count": 7,
   "metadata": {},
   "outputs": [],
   "source": [
    "io_params = [\"read\", \"write\", \"readSyscalls\", \"writeSyscalls\", \"readReal\", \"writeReal\", \"writeCancelled\"]\n",
    "network_params = [\"rxBytes\", \"rxPackets\", \"rxErrors\", \"rxDrop\", \"rxFifo\", \"rxFrame\", \"rxCompressed\", \"rxMulticast\", \"txBytes\", \"txPackets\", \"txErrors\", \"txDrop\", \"txFifo\", \"txColls\", \"txCarrier\", \"txCompressed\"]\n",
    "\n",
    "io_agg_kwargs={f\"{param}_sum\" : (f\"value.{param}\", \"sum\") for param in io_params}\n",
    "network_agg_kwargs={f\"{param}_sum\" : (f\"value.{param}\", \"sum\") for param in network_params}\n",
    "cpu_agg_kwargs={\"cpu_mean\": ('value', 'mean'), \"cpu_max\": ('value', 'max')}\n",
    "memory_agg_kwargs={\"memory_mean\": ('value', 'mean'), \"memory_max\": ('value', 'max')}\n",
    "ctime_agg_kwargs={\"ctime_mean\": ('value', 'mean'), \"ctime_max\": ('value', 'max'), \"ctime_sum\": ('value', 'sum')}\n",
    "\n",
    "def extract_meta_from_metrics(frame):\n",
    "    frame[\"value\"] = pd.to_numeric(frame[\"value\"])\n",
    "    def postprocess(aggregated_frame, parameter_type):\n",
    "        aggregated_frame = aggregated_frame.reset_index()\n",
    "        return aggregated_frame.loc[aggregated_frame[\"parameter\"] == parameter_type].drop(\"parameter\", axis=1)\n",
    "    \n",
    "    frame_grp = frame.groupby(['jobId', 'parameter'])\n",
    "    metrics = [\n",
    "        postprocess(frame_grp.agg(**io_agg_kwargs), \"io\"),\n",
    "        postprocess(frame_grp.agg(**network_agg_kwargs), \"network\"),          \n",
    "        postprocess(frame_grp.agg(**cpu_agg_kwargs), \"cpu\"),\n",
    "        postprocess(frame_grp.agg(**memory_agg_kwargs), \"memory\"),\n",
    "        postprocess(frame_grp.agg(**ctime_agg_kwargs), \"ctime\")   \n",
    "    ]   \n",
    "    return reduce(lambda left, right: pd.merge(left,right,on='jobId'), metrics)"
   ]
  },
  {
   "cell_type": "code",
   "execution_count": 9,
   "metadata": {},
   "outputs": [],
   "source": [
    "# extract_meta_from_metrics(filtered_events)"
   ]
  },
  {
   "cell_type": "code",
   "execution_count": 10,
   "metadata": {},
   "outputs": [],
   "source": [
    "# import matplotlib.pyplot as plt\n",
    "# plt.rcParams['figure.figsize'] = [10, 10]"
   ]
  },
  {
   "cell_type": "code",
   "execution_count": null,
   "metadata": {},
   "outputs": [],
   "source": []
  },
  {
   "cell_type": "code",
   "execution_count": null,
   "metadata": {},
   "outputs": [],
   "source": [
    "meta.groupby('executable').count().sort_values('size').plot.barh(y='size', logx=True, legend=False)"
   ]
  },
  {
   "cell_type": "markdown",
   "metadata": {},
   "source": [
    "### Todo - zmerge'ować base z metadanymi. Zrobić matrycę pearsona. Podstawowe klasyfikatory. GPT-2. Podział na "
   ]
  },
  {
   "cell_type": "code",
   "execution_count": 1,
   "metadata": {},
   "outputs": [
    {
     "ename": "NameError",
     "evalue": "name 'meta' is not defined",
     "output_type": "error",
     "traceback": [
      "\u001b[1;31m---------------------------------------------------------------------------\u001b[0m",
      "\u001b[1;31mNameError\u001b[0m                                 Traceback (most recent call last)",
      "\u001b[1;32m~\\AppData\\Local\\Temp/ipykernel_3232/2155520478.py\u001b[0m in \u001b[0;36m<module>\u001b[1;34m\u001b[0m\n\u001b[1;32m----> 1\u001b[1;33m \u001b[0mmeta\u001b[0m\u001b[1;33m.\u001b[0m\u001b[0miloc\u001b[0m\u001b[1;33m[\u001b[0m\u001b[1;36m5\u001b[0m\u001b[1;33m]\u001b[0m\u001b[1;33m\u001b[0m\u001b[1;33m\u001b[0m\u001b[0m\n\u001b[0m\u001b[0;32m      2\u001b[0m \u001b[1;31m# meta.columns\u001b[0m\u001b[1;33m\u001b[0m\u001b[1;33m\u001b[0m\u001b[0m\n",
      "\u001b[1;31mNameError\u001b[0m: name 'meta' is not defined"
     ]
    }
   ],
   "source": [
    "meta.iloc[5]\n",
    "# meta.columns"
   ]
  },
  {
   "cell_type": "code",
   "execution_count": null,
   "metadata": {},
   "outputs": [],
   "source": [
    "def preprocess_metrics(events_frame):\n",
    "    print(\"Preprocessing metrics\")\n",
    "    events_frame = events_frame.loc[events_frame[\"parameter\"] != \"event\"].reset_index()\n",
    "    return extract_meta_from_metrics(events_frame)\n",
    "\n",
    "def preprocess_meta(meta_frame):\n",
    "    print(\"Preprocessing meta\")\n",
    "    return meta_frame.drop([\"hyperflowId\", 'version', 'nodeName', 'cpu.socket', 'cpu.speedmin', \n",
    "                            'cpu.speedmax', 'cpu.governor', 'cpu.revision', 'cpu.voltage', 'env.nodeName', \n",
    "                            'env.podIp', 'env.podServiceAccount', 'env.podName', 'env.podNamespace', 'stdout'], axis=1)\n",
    "\n",
    "def join_metrics_with_meta(metrics_frame, meta_frame):\n",
    "    print(\"Joining metrics with meta\")\n",
    "    return pd.merge(metrics_frame, meta_frame, on=\"jobId\")\n",
    "\n",
    "def dump_preprocessed(data_frame, path=\"merged.csv\"):\n",
    "    print(\"Dumping preprocessed\")\n",
    "    data_frame.to_csv(os.path.join(data_root, path))"
   ]
  },
  {
   "cell_type": "code",
   "execution_count": null,
   "metadata": {},
   "outputs": [],
   "source": [
    "def store_intermediate():\n",
    "    metrics = preprocess_metrics(events)\n",
    "    metadata = preprocess_meta(meta)\n",
    "    joint_df = join_metrics_with_meta(metrics, metadata)\n",
    "    dump_preprocessed(joint_df, \"gcloud.csv\")"
   ]
  },
  {
   "cell_type": "code",
   "execution_count": null,
   "metadata": {},
   "outputs": [],
   "source": [
    "store_intermediate()"
   ]
  },
  {
   "cell_type": "code",
   "execution_count": 16,
   "metadata": {},
   "outputs": [
    {
     "data": {
      "text/plain": [
       "[{'name': 'region-oversized.hdr', 'size': 277},\n",
       " {'name': '2mass-atlas-001021s-j0490233.fits', 'size': 1537525}]"
      ]
     },
     "execution_count": 16,
     "metadata": {},
     "output_type": "execute_result"
    }
   ],
   "source": [
    "meta.inputs.iloc[0]"
   ]
  },
  {
   "cell_type": "code",
   "execution_count": 17,
   "metadata": {},
   "outputs": [
    {
     "name": "stdout",
     "output_type": "stream",
     "text": [
      "Preprocessing metrics\n",
      "Preprocessing meta\n",
      "Joining metrics with meta\n"
     ]
    }
   ],
   "source": [
    "metrics = preprocess_metrics(events)\n",
    "metadata = preprocess_meta(meta)\n",
    "joint_df = join_metrics_with_meta(metrics, metadata)"
   ]
  },
  {
   "cell_type": "code",
   "execution_count": 18,
   "metadata": {},
   "outputs": [
    {
     "data": {
      "text/plain": [
       "jobId                 -tDswEFbA-1-1\n",
       "read_sum                 27656260.0\n",
       "write_sum                      10.0\n",
       "readSyscalls_sum             1054.0\n",
       "writeSyscalls_sum              10.0\n",
       "readReal_sum             14708736.0\n",
       "writeReal_sum                   0.0\n",
       "writeCancelled_sum              0.0\n",
       "rxBytes_sum                     0.0\n",
       "rxPackets_sum                   0.0\n",
       "rxErrors_sum                    0.0\n",
       "rxDrop_sum                      0.0\n",
       "rxFifo_sum                      0.0\n",
       "rxFrame_sum                     0.0\n",
       "rxCompressed_sum                0.0\n",
       "rxMulticast_sum                 0.0\n",
       "txBytes_sum                     0.0\n",
       "txPackets_sum                   0.0\n",
       "txErrors_sum                    0.0\n",
       "txDrop_sum                      0.0\n",
       "txFifo_sum                      0.0\n",
       "txColls_sum                     0.0\n",
       "txCarrier_sum                   0.0\n",
       "txCompressed_sum                0.0\n",
       "cpu_mean                  86.905473\n",
       "cpu_max                        99.0\n",
       "memory_mean              11498291.2\n",
       "memory_max               12455936.0\n",
       "ctime_mean                   8712.0\n",
       "ctime_max                   17440.0\n",
       "ctime_sum                   87120.0\n",
       "Name: 0, dtype: object"
      ]
     },
     "execution_count": 18,
     "metadata": {},
     "output_type": "execute_result"
    }
   ],
   "source": [
    "metrics.iloc[0]"
   ]
  },
  {
   "cell_type": "code",
   "execution_count": 19,
   "metadata": {},
   "outputs": [
    {
     "data": {
      "text/plain": [
       "workflowName                                                  montage2\n",
       "size                                                              0.01\n",
       "jobId                                                    32i_W49Sz-1-2\n",
       "executable                                                    mProject\n",
       "args                 [-X, 2mass-atlas-001021s-j0490233.fits, p2mass...\n",
       "inputs               [{'name': 'region-oversized.hdr', 'size': 277}...\n",
       "outputs              [{'name': 'p2mass-atlas-001021s-j0490233.fits'...\n",
       "name                                                          mProject\n",
       "command              mProject -X 2mass-atlas-001021s-j0490233.fits ...\n",
       "execTimeMs                                                       11882\n",
       "cpu.manufacturer                                               IntelÂ®\n",
       "cpu.brand                                       XeonÂ® Platinum 8259CL\n",
       "cpu.vendor                                                            \n",
       "cpu.family                                                            \n",
       "cpu.model                                                             \n",
       "cpu.stepping                                                          \n",
       "cpu.speed                                                         2.50\n",
       "cpu.cores                                                            8\n",
       "cpu.physicalCores                                                    8\n",
       "cpu.processors                                                       1\n",
       "cpu.cache.l1d                                                         \n",
       "cpu.cache.l1i                                                         \n",
       "cpu.cache.l2                                                          \n",
       "cpu.cache.l3                                                          \n",
       "mem.total                                                  33359015936\n",
       "mem.free                                                   29774237696\n",
       "mem.used                                                    3584778240\n",
       "mem.active                                                  1305628672\n",
       "mem.available                                              32053387264\n",
       "mem.buffers                                                    2768896\n",
       "mem.cached                                                  2187223040\n",
       "mem.slab                                                     643309568\n",
       "mem.buffcache                                               2833301504\n",
       "mem.swaptotal                                                        0\n",
       "mem.swapused                                                         0\n",
       "mem.swapfree                                                         0\n",
       "Name: 0, dtype: object"
      ]
     },
     "execution_count": 19,
     "metadata": {},
     "output_type": "execute_result"
    }
   ],
   "source": [
    "metadata.iloc[0]"
   ]
  },
  {
   "cell_type": "code",
   "execution_count": 20,
   "metadata": {},
   "outputs": [
    {
     "ename": "IndexError",
     "evalue": "single positional indexer is out-of-bounds",
     "output_type": "error",
     "traceback": [
      "\u001b[1;31m---------------------------------------------------------------------------\u001b[0m",
      "\u001b[1;31mIndexError\u001b[0m                                Traceback (most recent call last)",
      "\u001b[1;32m~\\AppData\\Local\\Temp/ipykernel_16868/3811323678.py\u001b[0m in \u001b[0;36m<module>\u001b[1;34m\u001b[0m\n\u001b[1;32m----> 1\u001b[1;33m \u001b[0mmetadata\u001b[0m\u001b[1;33m.\u001b[0m\u001b[0mloc\u001b[0m\u001b[1;33m[\u001b[0m\u001b[0mmetadata\u001b[0m\u001b[1;33m[\u001b[0m\u001b[1;34m'jobId'\u001b[0m\u001b[1;33m]\u001b[0m \u001b[1;33m==\u001b[0m \u001b[1;34m'-8Ip2oamm-1-10'\u001b[0m\u001b[1;33m]\u001b[0m\u001b[1;33m.\u001b[0m\u001b[0minputs\u001b[0m\u001b[1;33m.\u001b[0m\u001b[0miloc\u001b[0m\u001b[1;33m[\u001b[0m\u001b[1;36m0\u001b[0m\u001b[1;33m]\u001b[0m\u001b[1;33m\u001b[0m\u001b[1;33m\u001b[0m\u001b[0m\n\u001b[0m",
      "\u001b[1;32m~\\anaconda3\\lib\\site-packages\\pandas\\core\\indexing.py\u001b[0m in \u001b[0;36m__getitem__\u001b[1;34m(self, key)\u001b[0m\n\u001b[0;32m    929\u001b[0m \u001b[1;33m\u001b[0m\u001b[0m\n\u001b[0;32m    930\u001b[0m             \u001b[0mmaybe_callable\u001b[0m \u001b[1;33m=\u001b[0m \u001b[0mcom\u001b[0m\u001b[1;33m.\u001b[0m\u001b[0mapply_if_callable\u001b[0m\u001b[1;33m(\u001b[0m\u001b[0mkey\u001b[0m\u001b[1;33m,\u001b[0m \u001b[0mself\u001b[0m\u001b[1;33m.\u001b[0m\u001b[0mobj\u001b[0m\u001b[1;33m)\u001b[0m\u001b[1;33m\u001b[0m\u001b[1;33m\u001b[0m\u001b[0m\n\u001b[1;32m--> 931\u001b[1;33m             \u001b[1;32mreturn\u001b[0m \u001b[0mself\u001b[0m\u001b[1;33m.\u001b[0m\u001b[0m_getitem_axis\u001b[0m\u001b[1;33m(\u001b[0m\u001b[0mmaybe_callable\u001b[0m\u001b[1;33m,\u001b[0m \u001b[0maxis\u001b[0m\u001b[1;33m=\u001b[0m\u001b[0maxis\u001b[0m\u001b[1;33m)\u001b[0m\u001b[1;33m\u001b[0m\u001b[1;33m\u001b[0m\u001b[0m\n\u001b[0m\u001b[0;32m    932\u001b[0m \u001b[1;33m\u001b[0m\u001b[0m\n\u001b[0;32m    933\u001b[0m     \u001b[1;32mdef\u001b[0m \u001b[0m_is_scalar_access\u001b[0m\u001b[1;33m(\u001b[0m\u001b[0mself\u001b[0m\u001b[1;33m,\u001b[0m \u001b[0mkey\u001b[0m\u001b[1;33m:\u001b[0m \u001b[0mtuple\u001b[0m\u001b[1;33m)\u001b[0m\u001b[1;33m:\u001b[0m\u001b[1;33m\u001b[0m\u001b[1;33m\u001b[0m\u001b[0m\n",
      "\u001b[1;32m~\\anaconda3\\lib\\site-packages\\pandas\\core\\indexing.py\u001b[0m in \u001b[0;36m_getitem_axis\u001b[1;34m(self, key, axis)\u001b[0m\n\u001b[0;32m   1564\u001b[0m \u001b[1;33m\u001b[0m\u001b[0m\n\u001b[0;32m   1565\u001b[0m             \u001b[1;31m# validate the location\u001b[0m\u001b[1;33m\u001b[0m\u001b[1;33m\u001b[0m\u001b[0m\n\u001b[1;32m-> 1566\u001b[1;33m             \u001b[0mself\u001b[0m\u001b[1;33m.\u001b[0m\u001b[0m_validate_integer\u001b[0m\u001b[1;33m(\u001b[0m\u001b[0mkey\u001b[0m\u001b[1;33m,\u001b[0m \u001b[0maxis\u001b[0m\u001b[1;33m)\u001b[0m\u001b[1;33m\u001b[0m\u001b[1;33m\u001b[0m\u001b[0m\n\u001b[0m\u001b[0;32m   1567\u001b[0m \u001b[1;33m\u001b[0m\u001b[0m\n\u001b[0;32m   1568\u001b[0m             \u001b[1;32mreturn\u001b[0m \u001b[0mself\u001b[0m\u001b[1;33m.\u001b[0m\u001b[0mobj\u001b[0m\u001b[1;33m.\u001b[0m\u001b[0m_ixs\u001b[0m\u001b[1;33m(\u001b[0m\u001b[0mkey\u001b[0m\u001b[1;33m,\u001b[0m \u001b[0maxis\u001b[0m\u001b[1;33m=\u001b[0m\u001b[0maxis\u001b[0m\u001b[1;33m)\u001b[0m\u001b[1;33m\u001b[0m\u001b[1;33m\u001b[0m\u001b[0m\n",
      "\u001b[1;32m~\\anaconda3\\lib\\site-packages\\pandas\\core\\indexing.py\u001b[0m in \u001b[0;36m_validate_integer\u001b[1;34m(self, key, axis)\u001b[0m\n\u001b[0;32m   1498\u001b[0m         \u001b[0mlen_axis\u001b[0m \u001b[1;33m=\u001b[0m \u001b[0mlen\u001b[0m\u001b[1;33m(\u001b[0m\u001b[0mself\u001b[0m\u001b[1;33m.\u001b[0m\u001b[0mobj\u001b[0m\u001b[1;33m.\u001b[0m\u001b[0m_get_axis\u001b[0m\u001b[1;33m(\u001b[0m\u001b[0maxis\u001b[0m\u001b[1;33m)\u001b[0m\u001b[1;33m)\u001b[0m\u001b[1;33m\u001b[0m\u001b[1;33m\u001b[0m\u001b[0m\n\u001b[0;32m   1499\u001b[0m         \u001b[1;32mif\u001b[0m \u001b[0mkey\u001b[0m \u001b[1;33m>=\u001b[0m \u001b[0mlen_axis\u001b[0m \u001b[1;32mor\u001b[0m \u001b[0mkey\u001b[0m \u001b[1;33m<\u001b[0m \u001b[1;33m-\u001b[0m\u001b[0mlen_axis\u001b[0m\u001b[1;33m:\u001b[0m\u001b[1;33m\u001b[0m\u001b[1;33m\u001b[0m\u001b[0m\n\u001b[1;32m-> 1500\u001b[1;33m             \u001b[1;32mraise\u001b[0m \u001b[0mIndexError\u001b[0m\u001b[1;33m(\u001b[0m\u001b[1;34m\"single positional indexer is out-of-bounds\"\u001b[0m\u001b[1;33m)\u001b[0m\u001b[1;33m\u001b[0m\u001b[1;33m\u001b[0m\u001b[0m\n\u001b[0m\u001b[0;32m   1501\u001b[0m \u001b[1;33m\u001b[0m\u001b[0m\n\u001b[0;32m   1502\u001b[0m     \u001b[1;31m# -------------------------------------------------------------------\u001b[0m\u001b[1;33m\u001b[0m\u001b[1;33m\u001b[0m\u001b[0m\n",
      "\u001b[1;31mIndexError\u001b[0m: single positional indexer is out-of-bounds"
     ]
    }
   ],
   "source": [
    "metadata.loc[metadata['jobId'] == '-8Ip2oamm-1-10'].inputs.iloc[0]"
   ]
  },
  {
   "cell_type": "code",
   "execution_count": 21,
   "metadata": {},
   "outputs": [
    {
     "data": {
      "text/plain": [
       "workflowName                                                  montage2\n",
       "size                                                              0.01\n",
       "jobId                                                    32i_W49Sz-1-2\n",
       "executable                                                    mProject\n",
       "args                 [-X, 2mass-atlas-001021s-j0490233.fits, p2mass...\n",
       "inputs               [{'name': 'region-oversized.hdr', 'size': 277}...\n",
       "outputs              [{'name': 'p2mass-atlas-001021s-j0490233.fits'...\n",
       "name                                                          mProject\n",
       "command              mProject -X 2mass-atlas-001021s-j0490233.fits ...\n",
       "execTimeMs                                                       11882\n",
       "cpu.manufacturer                                               IntelÂ®\n",
       "cpu.brand                                       XeonÂ® Platinum 8259CL\n",
       "cpu.vendor                                                            \n",
       "cpu.family                                                            \n",
       "cpu.model                                                             \n",
       "cpu.stepping                                                          \n",
       "cpu.speed                                                         2.50\n",
       "cpu.cores                                                            8\n",
       "cpu.physicalCores                                                    8\n",
       "cpu.processors                                                       1\n",
       "cpu.cache.l1d                                                         \n",
       "cpu.cache.l1i                                                         \n",
       "cpu.cache.l2                                                          \n",
       "cpu.cache.l3                                                          \n",
       "mem.total                                                  33359015936\n",
       "mem.free                                                   29774237696\n",
       "mem.used                                                    3584778240\n",
       "mem.active                                                  1305628672\n",
       "mem.available                                              32053387264\n",
       "mem.buffers                                                    2768896\n",
       "mem.cached                                                  2187223040\n",
       "mem.slab                                                     643309568\n",
       "mem.buffcache                                               2833301504\n",
       "mem.swaptotal                                                        0\n",
       "mem.swapused                                                         0\n",
       "mem.swapfree                                                         0\n",
       "Name: 0, dtype: object"
      ]
     },
     "execution_count": 21,
     "metadata": {},
     "output_type": "execute_result"
    }
   ],
   "source": [
    "metadata.iloc[0]"
   ]
  },
  {
   "cell_type": "code",
   "execution_count": 22,
   "metadata": {},
   "outputs": [
    {
     "data": {
      "text/plain": [
       "[{'name': 'region-oversized.hdr', 'size': 277},\n",
       " {'name': '2mass-atlas-001021s-j0490233.fits', 'size': 1537525}]"
      ]
     },
     "execution_count": 22,
     "metadata": {},
     "output_type": "execute_result"
    }
   ],
   "source": [
    "metadata.inputs.iloc[0]"
   ]
  },
  {
   "cell_type": "code",
   "execution_count": 23,
   "metadata": {},
   "outputs": [
    {
     "data": {
      "text/plain": [
       "jobId                -tDswEFbA-1-1\n",
       "read_sum                27656260.0\n",
       "write_sum                     10.0\n",
       "readSyscalls_sum            1054.0\n",
       "writeSyscalls_sum             10.0\n",
       "                         ...      \n",
       "mem.slab                 479772672\n",
       "mem.buffcache           2873090048\n",
       "mem.swaptotal                    0\n",
       "mem.swapused                     0\n",
       "mem.swapfree                     0\n",
       "Name: 0, Length: 66, dtype: object"
      ]
     },
     "execution_count": 23,
     "metadata": {},
     "output_type": "execute_result"
    }
   ],
   "source": [
    "joint_df.iloc[0]"
   ]
  },
  {
   "cell_type": "code",
   "execution_count": 24,
   "metadata": {},
   "outputs": [
    {
     "data": {
      "text/plain": [
       "Index(['jobId', 'read_sum', 'write_sum', 'readSyscalls_sum',\n",
       "       'writeSyscalls_sum', 'readReal_sum', 'writeReal_sum',\n",
       "       'writeCancelled_sum', 'rxBytes_sum', 'rxPackets_sum', 'rxErrors_sum',\n",
       "       'rxDrop_sum', 'rxFifo_sum', 'rxFrame_sum', 'rxCompressed_sum',\n",
       "       'rxMulticast_sum', 'txBytes_sum', 'txPackets_sum', 'txErrors_sum',\n",
       "       'txDrop_sum', 'txFifo_sum', 'txColls_sum', 'txCarrier_sum',\n",
       "       'txCompressed_sum', 'cpu_mean', 'cpu_max', 'memory_mean', 'memory_max',\n",
       "       'ctime_mean', 'ctime_max', 'ctime_sum', 'workflowName', 'size',\n",
       "       'executable', 'args', 'inputs', 'outputs', 'name', 'command',\n",
       "       'execTimeMs', 'cpu.manufacturer', 'cpu.brand', 'cpu.vendor',\n",
       "       'cpu.family', 'cpu.model', 'cpu.stepping', 'cpu.speed', 'cpu.cores',\n",
       "       'cpu.physicalCores', 'cpu.processors', 'cpu.cache.l1d', 'cpu.cache.l1i',\n",
       "       'cpu.cache.l2', 'cpu.cache.l3', 'mem.total', 'mem.free', 'mem.used',\n",
       "       'mem.active', 'mem.available', 'mem.buffers', 'mem.cached', 'mem.slab',\n",
       "       'mem.buffcache', 'mem.swaptotal', 'mem.swapused', 'mem.swapfree'],\n",
       "      dtype='object')"
      ]
     },
     "execution_count": 24,
     "metadata": {},
     "output_type": "execute_result"
    }
   ],
   "source": [
    "joint_df.columns"
   ]
  },
  {
   "cell_type": "code",
   "execution_count": 25,
   "metadata": {},
   "outputs": [
    {
     "data": {
      "text/plain": [
       "[{'name': '2mass-atlas-980914s-j0820044.fits', 'size': 1529220},\n",
       " {'name': 'region-oversized.hdr', 'size': 277}]"
      ]
     },
     "execution_count": 25,
     "metadata": {},
     "output_type": "execute_result"
    }
   ],
   "source": [
    "joint_df.inputs.iloc[0]"
   ]
  },
  {
   "cell_type": "code",
   "execution_count": 26,
   "metadata": {},
   "outputs": [
    {
     "data": {
      "text/plain": [
       "[{'name': 'region-oversized.hdr', 'size': 277},\n",
       " {'name': '2mass-atlas-001021s-j0490233.fits', 'size': 1537525}]"
      ]
     },
     "execution_count": 26,
     "metadata": {},
     "output_type": "execute_result"
    }
   ],
   "source": [
    "joint_df.loc[joint_df['jobId'] == '32i_W49Sz-1-2'].inputs.iloc[0]"
   ]
  },
  {
   "cell_type": "code",
   "execution_count": null,
   "metadata": {},
   "outputs": [],
   "source": []
  }
 ],
 "metadata": {
  "kernelspec": {
   "display_name": "Python 3 (ipykernel)",
   "language": "python",
   "name": "python3"
  },
  "language_info": {
   "codemirror_mode": {
    "name": "ipython",
    "version": 3
   },
   "file_extension": ".py",
   "mimetype": "text/x-python",
   "name": "python",
   "nbconvert_exporter": "python",
   "pygments_lexer": "ipython3",
   "version": "3.9.7"
  },
  "vscode": {
   "interpreter": {
    "hash": "607db476e417971f05b607c2dd14e77ee8262c2c4c20dea422522c60605a222a"
   }
  }
 },
 "nbformat": 4,
 "nbformat_minor": 4
}
